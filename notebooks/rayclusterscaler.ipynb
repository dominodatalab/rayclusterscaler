{
 "cells": [
  {
   "cell_type": "code",
   "execution_count": 2,
   "id": "d0fd22f8-f6a1-4408-a2f1-1b92779075d5",
   "metadata": {
    "tags": []
   },
   "outputs": [],
   "source": [
    "import requests\n",
    "import json"
   ]
  },
  {
   "cell_type": "code",
   "execution_count": 3,
   "id": "7543a924-0da1-4166-a48b-1b96a1b91f0d",
   "metadata": {
    "tags": []
   },
   "outputs": [
    {
     "name": "stdout",
     "output_type": "stream",
     "text": [
      "{'status': 'Healthy'}\n"
     ]
    }
   ],
   "source": [
    "#Fetch my mappings (Any user can do this)\n",
    "import requests\n",
    "import os\n",
    "access_token_endpoint='http://localhost:8899/access-token'\n",
    "resp = requests.get(access_token_endpoint)\n",
    "\n",
    "\n",
    "token = resp.text\n",
    "headers = {\n",
    "             \"Content-Type\": \"application/json\",\n",
    "             \"Authorization\": \"Bearer \" + token,\n",
    "        }\n",
    "endpoint='http://rayclusterscaler-svc.domino-field/healthz'\n",
    "resp = requests.get(endpoint,headers=headers)\n",
    "print(resp.text)\n"
   ]
  },
  {
   "cell_type": "code",
   "execution_count": null,
   "id": "da1cbf42-a646-4d51-a0f9-75aa66840d4f",
   "metadata": {
    "tags": []
   },
   "outputs": [],
   "source": [
    "#List Ray clusters\n",
    "\n",
    "\n",
    "import requests\n",
    "import os\n",
    "access_token_endpoint='http://localhost:8899/access-token'\n",
    "resp = requests.get(access_token_endpoint)\n",
    "\n",
    "\n",
    "token = resp.text\n",
    "headers = {\n",
    "             \"Content-Type\": \"application/json\",\n",
    "             \"Authorization\": \"Bearer \" + token,\n",
    "        }\n",
    "endpoint='http://rayclusterscaler-svc.domino-field/rayclusterscaler/list'\n",
    "resp = requests.get(endpoint,headers=headers)\n",
    "j = resp.json()\n",
    "#print(j)\n",
    "#cluster_name=j['ray_clusters'][0]['metadata']['name']\n",
    "json_formatted_str = json.dumps(j, indent=2)\n",
    "\n",
    "print(json_formatted_str)"
   ]
  },
  {
   "cell_type": "code",
   "execution_count": null,
   "id": "3b4f677e-f6ad-454f-9036-9aa8c8e147c1",
   "metadata": {
    "tags": []
   },
   "outputs": [],
   "source": [
    "#Get Current Ray cluster\n",
    "import requests\n",
    "import os\n",
    "run_id=os.environ['DOMINO_RUN_ID']\n",
    "cluster_name = f'ray-{run_id}'\n",
    "access_token_endpoint='http://localhost:8899/access-token'\n",
    "resp = requests.get(access_token_endpoint)\n",
    "\n",
    "\n",
    "token = resp.text\n",
    "headers = {\n",
    "             \"Content-Type\": \"application/json\",\n",
    "             \"Authorization\": \"Bearer \" + token,\n",
    "        }\n",
    "endpoint=f'http://rayclusterscaler-svc.domino-field/rayclusterscaler/{cluster_name}'\n",
    "\n",
    "resp = requests.get(endpoint,headers=headers)\n",
    "j = resp.json()\n",
    "\n",
    "json_formatted_str = json.dumps(j, indent=2)\n",
    "\n",
    "print(json_formatted_str)"
   ]
  },
  {
   "cell_type": "code",
   "execution_count": null,
   "id": "e742ec39-2506-4b16-a611-f8f9e8b985ff",
   "metadata": {
    "tags": []
   },
   "outputs": [],
   "source": [
    "# Scale Ray Cluster\n",
    "import requests\n",
    "import os\n",
    "access_token_endpoint='http://localhost:8899/access-token'\n",
    "resp = requests.get(access_token_endpoint)\n",
    "payload = {\n",
    "    \"cluster_name\":cluster_name,\n",
    "    \"replicas\" : 5\n",
    "}\n",
    "\n",
    "token = resp.text\n",
    "headers = {\n",
    "             \"Content-Type\": \"application/json\",\n",
    "             \"Authorization\": \"Bearer \" + token,\n",
    "        }\n",
    "endpoint=f'http://rayclusterscaler-svc.domino-field/rayclusterscaler/scale'\n",
    "resp = requests.post(endpoint,json=payload,headers=headers)\n",
    "j = resp.json()\n",
    "json_formatted_str = json.dumps(j, indent=2)\n",
    "\n",
    "print(json_formatted_str)"
   ]
  },
  {
   "cell_type": "code",
   "execution_count": null,
   "id": "c690e6d8-b935-47bd-9c61-f24b5cd21da9",
   "metadata": {},
   "outputs": [],
   "source": []
  }
 ],
 "metadata": {
  "dca-init": "true",
  "kernelspec": {
   "display_name": "Python 3 (ipykernel)",
   "language": "python",
   "name": "python3"
  },
  "language_info": {
   "codemirror_mode": {
    "name": "ipython",
    "version": 3
   },
   "file_extension": ".py",
   "mimetype": "text/x-python",
   "name": "python",
   "nbconvert_exporter": "python",
   "pygments_lexer": "ipython3",
   "version": "3.9.15"
  }
 },
 "nbformat": 4,
 "nbformat_minor": 5
}
